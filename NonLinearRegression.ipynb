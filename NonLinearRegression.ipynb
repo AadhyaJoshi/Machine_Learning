{
 "cells": [
  {
   "cell_type": "code",
   "execution_count": 88,
   "id": "8ca1d07f-4f76-45e0-bffe-cdd55d150ac7",
   "metadata": {},
   "outputs": [],
   "source": [
    "#regression fitting higher order curves\n",
    "import numpy as np\n",
    "import matplotlib.pyplot as plt\n",
    "import pandas as pd\n",
    "import random"
   ]
  },
  {
   "cell_type": "code",
   "execution_count": 89,
   "id": "513279ca-7e5a-44fa-8ab4-a539dbcf777c",
   "metadata": {},
   "outputs": [],
   "source": [
    "random.seed(98103)"
   ]
  },
  {
   "cell_type": "code",
   "execution_count": 121,
   "id": "f52b96bb-a539-4ad9-842f-6b385b3e1030",
   "metadata": {},
   "outputs": [],
   "source": [
    "#number of samples\n",
    "n=30\n",
    "degree=4"
   ]
  },
  {
   "cell_type": "code",
   "execution_count": 122,
   "id": "b8ac5f71-0760-4414-b79e-631bc0fca154",
   "metadata": {},
   "outputs": [
    {
     "name": "stdout",
     "output_type": "stream",
     "text": [
      "[0.17414556 0.20016074 0.21813476 0.24102303 0.24532935 0.30309615\n",
      " 0.31314608 0.31634772 0.3198078  0.39413828 0.44577813 0.45873886\n",
      " 0.462591   0.48443237 0.48935062 0.53613806 0.5362592  0.5381135\n",
      " 0.5590075  0.58118665 0.59229046 0.5944881  0.63549596 0.7236447\n",
      " 0.75299466 0.7597269  0.78062963 0.8241077  0.9053009  0.95148647]\n"
     ]
    }
   ],
   "source": [
    "x=[random.random() for i in range(n)]\n",
    "x=sorted(x)\n",
    "x=np.array(x,dtype=np.float32)\n",
    "print(x)"
   ]
  },
  {
   "cell_type": "code",
   "execution_count": 123,
   "id": "21648150-9c1f-4f7b-b684-64485a2dfd46",
   "metadata": {},
   "outputs": [
    {
     "name": "stdout",
     "output_type": "stream",
     "text": [
      "[ 0.6415999   0.7178039   0.76596373  0.82153165  0.83123046  0.93645513\n",
      "  0.9497963   0.9537251   0.95779514  0.99998343  0.97754544  0.9653124\n",
      "  0.96117485  0.933432    0.9261941   0.83986825  0.83960515  0.8355531\n",
      "  0.7867725   0.7289905   0.6978783   0.6915555   0.5643196   0.24450965\n",
      "  0.12925142  0.10250476  0.01907296 -0.15422021 -0.4614341  -0.61655   ]\n"
     ]
    }
   ],
   "source": [
    "y=np.sin(4*x)\n",
    "print(y)"
   ]
  },
  {
   "cell_type": "code",
   "execution_count": 124,
   "id": "bad470e4-de4c-4a9d-82c5-389e72d35628",
   "metadata": {},
   "outputs": [
    {
     "name": "stdout",
     "output_type": "stream",
     "text": [
      "[ 1.0709949   1.2009524   0.7880757   0.56668377  0.4671727   0.94689995\n",
      "  0.6090953   0.47478196  1.0242325   1.0444416   1.1597016   0.66065544\n",
      "  0.9628433   0.9118514   0.42425108  1.0192007   0.9465088   1.6319238\n",
      "  0.8544289   0.6807564   1.1087973   0.75781924  0.86732996  0.12266156\n",
      "  0.20197536  0.44393432  0.2511553  -0.11139613 -0.82220346 -0.46814278]\n"
     ]
    }
   ],
   "source": [
    "random.seed(1)\n",
    "e=[random.gauss(0,1.0/3.0) for i in range(n)]\n",
    "y=y+e\n",
    "y=np.array(y,dtype=np.float32)\n",
    "print(y)"
   ]
  },
  {
   "cell_type": "code",
   "execution_count": 125,
   "id": "57b603b2-9592-49bc-989f-1a1597f76e42",
   "metadata": {},
   "outputs": [],
   "source": [
    "def poly_feature(x,degree):\n",
    "    df=pd.DataFrame()\n",
    "    for i in range(degree+1):\n",
    "        df['X'+str(i)]=x**i\n",
    "    return df"
   ]
  },
  {
   "cell_type": "code",
   "execution_count": 126,
   "id": "60439a1a-645d-4bbb-85eb-14ecbacc046c",
   "metadata": {},
   "outputs": [
    {
     "name": "stdout",
     "output_type": "stream",
     "text": [
      "     X0        X1        X2        X3        X4\n",
      "0   1.0  0.174146  0.030327  0.005281  0.000920\n",
      "1   1.0  0.200161  0.040064  0.008019  0.001605\n",
      "2   1.0  0.218135  0.047583  0.010379  0.002264\n",
      "3   1.0  0.241023  0.058092  0.014002  0.003375\n",
      "4   1.0  0.245329  0.060186  0.014766  0.003622\n",
      "5   1.0  0.303096  0.091867  0.027845  0.008440\n",
      "6   1.0  0.313146  0.098060  0.030707  0.009616\n",
      "7   1.0  0.316348  0.100076  0.031659  0.010015\n",
      "8   1.0  0.319808  0.102277  0.032709  0.010461\n",
      "9   1.0  0.394138  0.155345  0.061227  0.024132\n",
      "10  1.0  0.445778  0.198718  0.088584  0.039489\n",
      "11  1.0  0.458739  0.210441  0.096538  0.044286\n",
      "12  1.0  0.462591  0.213990  0.098990  0.045792\n",
      "13  1.0  0.484432  0.234675  0.113684  0.055072\n",
      "14  1.0  0.489351  0.239464  0.117182  0.057343\n",
      "15  1.0  0.536138  0.287444  0.154110  0.082624\n",
      "16  1.0  0.536259  0.287574  0.154214  0.082699\n",
      "17  1.0  0.538113  0.289566  0.155819  0.083849\n",
      "18  1.0  0.559008  0.312489  0.174684  0.097650\n",
      "19  1.0  0.581187  0.337778  0.196312  0.114094\n",
      "20  1.0  0.592290  0.350808  0.207780  0.123066\n",
      "21  1.0  0.594488  0.353416  0.210102  0.124903\n",
      "22  1.0  0.635496  0.403855  0.256648  0.163099\n",
      "23  1.0  0.723645  0.523662  0.378945  0.274221\n",
      "24  1.0  0.752995  0.567001  0.426949  0.321490\n",
      "25  1.0  0.759727  0.577185  0.438503  0.333142\n",
      "26  1.0  0.780630  0.609383  0.475702  0.371347\n",
      "27  1.0  0.824108  0.679154  0.559696  0.461250\n",
      "28  1.0  0.905301  0.819570  0.741957  0.671695\n",
      "29  1.0  0.951486  0.905326  0.861406  0.819616\n"
     ]
    }
   ],
   "source": [
    "df=poly_feature(x,degree)\n",
    "print(df)"
   ]
  },
  {
   "cell_type": "code",
   "execution_count": 127,
   "id": "2ff201cf-0140-4b10-95d6-b21ffd4afeee",
   "metadata": {},
   "outputs": [],
   "source": [
    "X=np.array(df)"
   ]
  },
  {
   "cell_type": "code",
   "execution_count": 128,
   "id": "51d66173-c2bd-4faf-8078-a149cf4ce720",
   "metadata": {},
   "outputs": [],
   "source": [
    "def regression(X,y):\n",
    "    row,col=np.shape(X)\n",
    "    w=[random.random() for i in range(col)]\n",
    "    w=np.array(w)\n",
    "    y_predicted=np.dot(X,w)\n",
    "    var=y-y_predicted\n",
    "    loss=np.dot(var,var.T)/2*row\n",
    "\n",
    "    learning_rate=0.001\n",
    "    epochs=0\n",
    "    loss_curve=[loss]\n",
    "\n",
    "    while(loss>10 and epochs<50000):\n",
    "        for i in range(col):\n",
    "            partialloss=np.array([0 for j in range(col)])\n",
    "            #gradient descent algorithm\n",
    "            for j in range(row):\n",
    "                partialloss=partialloss+X[j]*(y[j]-y_predicted[j])\n",
    "            partialloss=partialloss/row\n",
    "            w=w+learning_rate*partialloss\n",
    "    \n",
    "        #updating y_predicted values and hence finding loss\n",
    "        y_predicted=np.dot(X,w)\n",
    "        var=y-y_predicted\n",
    "        loss=np.dot(var,var.T)/2*row\n",
    "        loss_curve.append(loss)\n",
    "        epochs=epochs+1\n",
    "\n",
    "    return w,loss_curve"
   ]
  },
  {
   "cell_type": "code",
   "execution_count": 129,
   "id": "72ada5eb-05d4-4458-bcfd-57f3b9b7a687",
   "metadata": {},
   "outputs": [
    {
     "name": "stdout",
     "output_type": "stream",
     "text": [
      "Final w: [ 0.70314335  0.88836934 -0.26818234 -0.91413053 -1.53505927]\n"
     ]
    },
    {
     "data": {
      "image/png": "[encoded data removed]",
      "text/plain": [
       "<Figure size 432x288 with 1 Axes>"
      ]
     },
     "metadata": {
      "needs_background": "light"
     },
     "output_type": "display_data"
    }
   ],
   "source": [
    "w,loss_curve=regression(X,y)\n",
    "\n",
    "print('Final w:',w)\n",
    "plt.plot(loss_curve)\n",
    "plt.title(\"Loss Function\")\n",
    "plt.autoscale()\n",
    "plt.show()"
   ]
  },
  {
   "cell_type": "code",
   "execution_count": 130,
   "id": "45d0753a-c9a9-450e-b75d-8b7633243cde",
   "metadata": {},
   "outputs": [
    {
     "data": {
      "image/png": "[encoded data removed]",
      "text/plain": [
       "<Figure size 432x288 with 1 Axes>"
      ]
     },
     "metadata": {
      "needs_background": "light"
     },
     "output_type": "display_data"
    }
   ],
   "source": [
    "#plotting curve\n",
    "x_values=[random.random() for i in range(1000)]\n",
    "x_values=np.array(x_values,dtype=np.float32)\n",
    "random_df=poly_feature(x_values,degree)\n",
    "random_df=np.array(random_df)\n",
    "\n",
    "# Calculate corresponding y values for the curve\n",
    "y_values = np.dot(random_df,w)\n",
    "\n",
    "plt.scatter(X[:,1],y,s=10)\n",
    "plt.scatter(x_values, y_values, label='Best fit curve',color='red',s=3)\n",
    "plt.legend()\n",
    "plt.autoscale()"
   ]
  },
  {
   "cell_type": "code",
   "execution_count": null,
   "id": "d8c37f89-68ac-4134-86b2-4b9ccdd990ab",
   "metadata": {},
   "outputs": [],
   "source": []
  }
 ],
 "metadata": {
  "kernelspec": {
   "display_name": "Python 3 (ipykernel)",
   "language": "python",
   "name": "python3"
  },
  "language_info": {
   "codemirror_mode": {
    "name": "ipython",
    "version": 3
   },
   "file_extension": ".py",
   "mimetype": "text/x-python",
   "name": "python",
   "nbconvert_exporter": "python",
   "pygments_lexer": "ipython3",
   "version": "3.10.12"
  }
 },
 "nbformat": 4,
 "nbformat_minor": 5
}
